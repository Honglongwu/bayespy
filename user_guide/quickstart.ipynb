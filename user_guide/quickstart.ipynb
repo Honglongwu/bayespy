{
 "metadata": {
  "celltoolbar": "Raw Cell Format",
  "name": "",
  "signature": "sha256:7562a0b1f9ba210018cedab6cc2e112f06fda79ffa4dbe82fbb97f61f5f7aff2"
 },
 "nbformat": 3,
 "nbformat_minor": 0,
 "worksheets": [
  {
   "cells": [
    {
     "cell_type": "heading",
     "level": 1,
     "metadata": {},
     "source": [
      "Quick start guide"
     ]
    },
    {
     "cell_type": "markdown",
     "metadata": {},
     "source": [
      "This short guide shows the key steps in using BayesPy for variational Bayesian inference by applying BayesPy to a simple problem. The key steps in using BayesPy are the following:\n",
      "\n",
      "* Construct the model\n",
      "\n",
      "* Observe some of the variables by providing the data in a proper format\n",
      "\n",
      "* Run variational Bayesian inference\n",
      "\n",
      "* Examine the resulting posterior approximation\n",
      "\n",
      "To demonstrate BayesPy, we'll consider a very simple problem: we have a set of observations from a Gaussian distribution with unknown mean and variance, and we want to learn these parameters.  In this case, we do not use any real-world data but generate some artificial data. The dataset consists of ten samples from a Gaussian distribution with mean 5 and standard deviation 10. This dataset can be generated with NumPy as follows:"
     ]
    },
    {
     "cell_type": "code",
     "collapsed": false,
     "input": [
      "import numpy as np\n",
      "data = np.random.normal(5, 10, size=(10,))"
     ],
     "language": "python",
     "metadata": {},
     "outputs": [],
     "prompt_number": 7
    },
    {
     "cell_type": "markdown",
     "metadata": {},
     "source": [
      "Now, given this data we would like to estimate the mean and the standard deviation as if we didn't know their values. The model can be defined as follows:\n",
      "\n",
      "$$\n",
      "\\begin{split}\n",
      "p(\\mathbf{y}|\\mu,\\tau) &= \\prod^{9}_{n=0} \\mathcal{N}(y_n|\\mu,\\tau) \\\\\n",
      "p(\\mu) &= \\mathcal{N}(\\mu|0,10^{-6}) \\\\\n",
      "p(\\tau) &= \\mathcal{G}(\\tau|10^{-6},10^{-6})\n",
      "\\end{split}\n",
      "$$\n",
      "\n",
      "where $\\mathcal{N}$ is the Gaussian distribution parameterized by its mean and precision (i.e., inverse variance), and $\\mathcal{G}$ is the gamma distribution parameterized by its shape and rate parameters. Note that we have given quite uninformative priors for the variables $\\mu$ and $\\tau$.  This simple model can also be shown as a directed factor graph:"
     ]
    },
    {
     "cell_type": "raw",
     "metadata": {
      "raw_mimetype": "text/restructuredtext"
     },
     "source": [
      "\n",
      ".. bayesnet:: Directed factor graph of the example model.\n",
      "\n",
      "   \\node[obs]                                  (y)     {$y_n$} ;\n",
      "   \\node[latent, above left=1.5 and 0.5 of y]  (mu)    {$\\mu$} ;\n",
      "   \\node[latent, above right=1.5 and 0.5 of y] (tau)   {$\\tau$} ;\n",
      "   \\factor[above=of mu] {mu-f} {left:$\\mathcal{N}$} {} {mu} ;\n",
      "   \\factor[above=of tau] {tau-f} {left:$\\mathcal{G}$} {} {tau} ;\n",
      "\n",
      "   \\factor[above=of y] {y-f} {left:$\\mathcal{N}$} {mu,tau}     {y};\n",
      "\n",
      "   \\plate {} {(y)(y-f)(y-f-caption)} {$n=0,\\ldots,9$} ;"
     ]
    },
    {
     "cell_type": "markdown",
     "metadata": {},
     "source": [
      "This model can be constructed in BayesPy as follows:"
     ]
    },
    {
     "cell_type": "code",
     "collapsed": false,
     "input": [
      "from bayespy.nodes import GaussianARD, Gamma\n",
      "mu = GaussianARD(0, 1e-6)\n",
      "tau = Gamma(1e-6, 1e-6)\n",
      "y = GaussianARD(mu, tau, plates=(10,))"
     ],
     "language": "python",
     "metadata": {},
     "outputs": [],
     "prompt_number": 8
    },
    {
     "cell_type": "raw",
     "metadata": {
      "raw_mimetype": "text/restructuredtext"
     },
     "source": [
      "\n",
      ".. currentmodule:: bayespy.nodes\n",
      "\n",
      "This is quite self-explanatory given the model definitions above. We have used two types of nodes :class:`GaussianARD` and :class:`Gamma` to represent Gaussian and gamma distributions, respectively. There are much more distributions in :mod:`bayespy.nodes` so you can construct quite complex conjugate exponential family models. The node :code:`y` uses keyword argument :code:`plates` to define the plates :math:`n=0,\\ldots,9`.\n",
      "\n",
      "Now that we have created the model, we can provide our data by setting :code:`y` as observed:"
     ]
    },
    {
     "cell_type": "code",
     "collapsed": false,
     "input": [
      "y.observe(data)"
     ],
     "language": "python",
     "metadata": {},
     "outputs": [],
     "prompt_number": 9
    },
    {
     "cell_type": "markdown",
     "metadata": {},
     "source": [
      "Next we want to estimate the posterior distribution.  In principle, we could use different inference engines (e.g., MCMC or EP) but currently only variational Bayesian (VB) engine is implemented.  The engine is initialized by giving all the nodes of the model:"
     ]
    },
    {
     "cell_type": "code",
     "collapsed": false,
     "input": [
      "from bayespy.inference import VB\n",
      "Q = VB(mu, tau, y)"
     ],
     "language": "python",
     "metadata": {},
     "outputs": [],
     "prompt_number": 10
    },
    {
     "cell_type": "markdown",
     "metadata": {},
     "source": [
      "The inference algorithm can be run as long as wanted (max. 20 iterations in this case):"
     ]
    },
    {
     "cell_type": "code",
     "collapsed": false,
     "input": [
      "Q.update(repeat=20)"
     ],
     "language": "python",
     "metadata": {},
     "outputs": [
      {
       "output_type": "stream",
       "stream": "stdout",
       "text": [
        "Iteration 1: loglike=-5.910731e+01 (0.010 seconds)\n",
        "Iteration 2: loglike=-5.721245e+01 (0.000 seconds)\n",
        "Iteration 3: loglike=-5.721009e+01 (0.000 seconds)\n",
        "Iteration 4: loglike=-5.721007e+01 (0.010 seconds)\n",
        "Converged.\n"
       ]
      }
     ],
     "prompt_number": 11
    },
    {
     "cell_type": "markdown",
     "metadata": {},
     "source": [
      "Now the algorithm converged after four iterations, before the requested 20 iterations. \n",
      "\n",
      "VB approximates the true posterior $p(\\mu,\\tau|\\mathbf{y})$ with a distribution which factorizes with respect to the nodes: $q(\\mu)q(\\tau)$. The resulting approximate posterior distributions $q(\\mu)$ and $q(\\tau)$ can be examined, for instance, by plotting the marginal probability density functions:"
     ]
    },
    {
     "cell_type": "code",
     "collapsed": false,
     "input": [
      "import bayespy.plot as bpplt\n",
      "# The following two two lines are just for enabling matplotlib plotting in notebooks\n",
      "%matplotlib inline\n",
      "bpplt.pyplot.plot([])\n",
      "bpplt.pyplot.subplot(2, 1, 1)\n",
      "bpplt.pdf(mu, np.linspace(-10, 20, num=100), color='k', name=r'\\mu')\n",
      "bpplt.pyplot.subplot(2, 1, 2)\n",
      "bpplt.pdf(tau, np.linspace(1e-6, 0.08, num=100), color='k', name=r'\\tau');"
     ],
     "language": "python",
     "metadata": {},
     "outputs": [
      {
       "metadata": {},
       "output_type": "display_data",
       "png": "[encoded data removed]",
       "text": [
        "<matplotlib.figure.Figure at 0x7fbacf1da950>"
       ]
      }
     ],
     "prompt_number": 13
    },
    {
     "cell_type": "markdown",
     "metadata": {},
     "source": [
      "This example was a very simple introduction to using BayesPy.  The model can be much more complex and each phase contains more options to give the user more control over the inference.  The following sections give more details about the phases."
     ]
    }
   ],
   "metadata": {}
  }
 ]
}