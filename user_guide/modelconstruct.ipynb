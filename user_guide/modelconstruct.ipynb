{
 "metadata": {
  "celltoolbar": "Raw Cell Format",
  "name": "",
  "signature": "sha256:fc8c2f2cba25dbddb44c51e4dd2de46b50dca1eb036d1a38792e67636034e7ea"
 },
 "nbformat": 3,
 "nbformat_minor": 0,
 "worksheets": [
  {
   "cells": [
    {
     "cell_type": "raw",
     "metadata": {
      "raw_mimetype": "text/restructuredtext"
     },
     "source": [
      "\n",
      "..\n",
      "   Copyright (C) 2014 Jaakko Luttinen\n",
      "\n",
      "   This file is licensed under Version 3.0 of the GNU General Public\n",
      "   License. See LICENSE for a text of the license.\n",
      "\n",
      "   This file is part of BayesPy.\n",
      "\n",
      "   BayesPy is free software: you can redistribute it and/or modify it\n",
      "   under the terms of the GNU General Public License version 3 as\n",
      "   published by the Free Software Foundation.\n",
      "\n",
      "   BayesPy is distributed in the hope that it will be useful, but\n",
      "   WITHOUT ANY WARRANTY; without even the implied warranty of\n",
      "   MERCHANTABILITY or FITNESS FOR A PARTICULAR PURPOSE.  See the GNU\n",
      "   General Public License for more details.\n",
      "\n",
      "   You should have received a copy of the GNU General Public License\n",
      "   along with BayesPy.  If not, see <http://www.gnu.org/licenses/>.\n",
      "\n",
      ".. currentmodule:: bayespy.nodes"
     ]
    },
    {
     "cell_type": "heading",
     "level": 1,
     "metadata": {},
     "source": [
      "Constructing the model"
     ]
    },
    {
     "cell_type": "raw",
     "metadata": {
      "raw_mimetype": "text/restructuredtext"
     },
     "source": [
      "\n",
      "In BayesPy, the model is constructed by creating nodes which form a directed network.  There are two types of nodes: stochastic and deterministic.  A stochastic node corresponds to a random variable (or a set of random variables) from a specific probability distribution.  A deterministic node corresponds to a deterministic function of its parents. For a list of built-in nodes, see the :ref:`sec-user-api`."
     ]
    },
    {
     "cell_type": "heading",
     "level": 2,
     "metadata": {},
     "source": [
      "Creating nodes"
     ]
    },
    {
     "cell_type": "raw",
     "metadata": {
      "raw_mimetype": "text/restructuredtext"
     },
     "source": [
      "\n",
      "Creating a node is basically like writing the conditional prior distribution of\n",
      "the variable in Python.  The node is constructed by giving the parent nodes,\n",
      "that is, the conditioning variables as arguments.  The number of parents and\n",
      "their meaning depend on the node.  For instance, a :class:`Gaussian` node is\n",
      "created by giving the mean vector and the precision matrix. These parents can be\n",
      "constant numerical arrays if they are known:"
     ]
    },
    {
     "cell_type": "code",
     "collapsed": false,
     "input": [
      "from bayespy.nodes import Gaussian\n",
      "X = Gaussian([2, 5], [[1.0, 0.3], [0.3, 1.0]])"
     ],
     "language": "python",
     "metadata": {},
     "outputs": [],
     "prompt_number": 34
    },
    {
     "cell_type": "markdown",
     "metadata": {},
     "source": [
      "or other nodes if they are unknown and given prior distributions:"
     ]
    },
    {
     "cell_type": "code",
     "collapsed": false,
     "input": [
      "from bayespy.nodes import Gaussian, Wishart\n",
      "mu = Gaussian([0, 0], [[1e-6, 0],[0, 1e-6]])\n",
      "Lambda = Wishart(2, [[1, 0], [0, 1]])\n",
      "X = Gaussian(mu, Lambda)"
     ],
     "language": "python",
     "metadata": {},
     "outputs": [],
     "prompt_number": 35
    },
    {
     "cell_type": "markdown",
     "metadata": {},
     "source": [
      "However, there are two main restrictions for the parent nodes: non-constant parent nodes must be conjugate and the parent nodes must be independent in the posterior approximation."
     ]
    },
    {
     "cell_type": "heading",
     "level": 3,
     "metadata": {},
     "source": [
      "Conjugacy of the parents"
     ]
    },
    {
     "cell_type": "markdown",
     "metadata": {},
     "source": [
      "In Bayesian framework in general, one can give quite arbitrary probability distributions for variables.  However, one often uses distributions that are easy to handle in practice.  Quite often this means that the parents are given conjugate priors.  This is also one of the limitations in BayesPy: only conjugate family prior distributions are accepted currently.  Thus, although in principle one could give, for instance, gamma prior for the mean parameter `mu`, only Gaussian-family distributions are accepted because of the conjugacy.  If the parent is not of a proper type, an error is raised. This conjugacy is checked automatically by BayesPy and `NoConverterError` is raised if a parent cannot be interpreted as being from a conjugate distribution."
     ]
    },
    {
     "cell_type": "heading",
     "level": 3,
     "metadata": {},
     "source": [
      "Independence of the parents"
     ]
    },
    {
     "cell_type": "markdown",
     "metadata": {},
     "source": [
      "Another a bit rarely encountered limitation is that the parents must be independent (in the posterior factorization). Thus, a node cannot have the same stochastic node as several parents without intermediate stochastic nodes.  For instance, the following would lead to an error:"
     ]
    },
    {
     "cell_type": "raw",
     "metadata": {},
     "source": [
      "\n",
      ".. code-block:: python3\n",
      "\n",
      "    from bayespy.nodes import Dot\n",
      "    Y = Dot(X, X)\n",
      "\n",
      ".. parsed-literal::\n",
      "\n",
      "    ValueError: Parent nodes are not independent"
     ]
    },
    {
     "cell_type": "markdown",
     "metadata": {},
     "source": [
      "The error is raised because `X` is given as two parents for `Y`, and obviously `X` is not independent of `X` in the posterior approximation.  Even if `X` is not given several times directly but there are some intermediate deterministic nodes, an error is raised because the deterministic nodes depend on their parents and thus the parents of `Y` would not be independent.  However, it is valid that a node is a parent of another node via several paths if all the paths or all except one path has intermediate stochastic nodes.  This is valid because the intermediate stochastic nodes have independent posterior approximations.  Thus, for instance, the following construction does not raise errors:"
     ]
    },
    {
     "cell_type": "code",
     "collapsed": false,
     "input": [
      "from bayespy.nodes import Dot\n",
      "Z = Gaussian(X, [[1,0], [0,1]])\n",
      "Y = Dot(X, Z)"
     ],
     "language": "python",
     "metadata": {},
     "outputs": [],
     "prompt_number": 36
    },
    {
     "cell_type": "markdown",
     "metadata": {},
     "source": [
      "This works because there is now an intermediate stochastic node `Z` on the other path from `X` node to `Y` node."
     ]
    },
    {
     "cell_type": "heading",
     "level": 2,
     "metadata": {},
     "source": [
      "Effects of the nodes on inference"
     ]
    },
    {
     "cell_type": "markdown",
     "metadata": {},
     "source": [
      "When constructing the network with nodes, the stochastic nodes actually define three important aspects:\n",
      "\n",
      "  1. the prior probability distribution for the variables,\n",
      "  \n",
      "  2. the factorization of the posterior approximation,\n",
      "  \n",
      "  3. the functional form of the posterior approximation for the variables."
     ]
    },
    {
     "cell_type": "heading",
     "level": 3,
     "metadata": {},
     "source": [
      "Prior probability distribution"
     ]
    },
    {
     "cell_type": "raw",
     "metadata": {
      "raw_mimetype": "text/restructuredtext"
     },
     "source": [
      "\n",
      "First, the most intuitive feature of the nodes is that they define the prior\n",
      "distribution. In the previous example, ``mu`` was a stochastic\n",
      ":class:`GaussianARD` node corresponding to :math:`\\mu` from the normal\n",
      "distribution, ``tau`` was a stochastic :class:`Gamma` node corresponding to\n",
      ":math:`\\tau` from the gamma distribution, and ``y`` was a stochastic\n",
      ":class:`GaussianARD` node corresponding to :math:`y` from the normal\n",
      "distribution with mean :math:`\\mu` and precision :math:`\\tau`.  If we denote the\n",
      "set of all stochastic nodes by :math:`\\Omega`, and by :math:`\\pi_X` the set of parents of a\n",
      "node :math:`X`, the model is defined as"
     ]
    },
    {
     "cell_type": "markdown",
     "metadata": {},
     "source": [
      "$$\n",
      "p(\\Omega) = \\prod_{X \\in \\Omega} p(X|\\pi_X),\n",
      "$$\n",
      "\n",
      "where nodes correspond to the terms $p(X|\\pi_X)$."
     ]
    },
    {
     "cell_type": "heading",
     "level": 3,
     "metadata": {},
     "source": [
      "Posterior factorization"
     ]
    },
    {
     "cell_type": "markdown",
     "metadata": {},
     "source": [
      "Second, the nodes define the structure of the posterior approximation.  The variational Bayesian approximation factorizes with respect to nodes, that is, each node corresponds to an independent probability distribution in the posterior approximation.  In the previous example, `mu` and `tau` were separate nodes, thus the posterior approximation factorizes with respect to them: $q(\\mu)q(\\tau)$.  Thus, the posterior approximation can be written as:\n",
      "\n",
      "$$\n",
      "p(\\tilde{\\Omega}|\\hat{\\Omega}) \\approx \\prod_{X \\in \\tilde{\\Omega}} q(X),\n",
      "$$"
     ]
    },
    {
     "cell_type": "raw",
     "metadata": {
      "raw_mimetype": "text/restructuredtext"
     },
     "source": [
      "\n",
      "where :math:`\\tilde{\\Omega}` is the set of latent stochastic nodes and :math:`\\hat{\\Omega}`\n",
      "is the set of observed stochastic nodes.  Sometimes one may want to avoid the factorization\n",
      "between some variables.  For this purpose, there are some nodes which model\n",
      "several variables jointly without factorization.  For instance,\n",
      ":class:`GaussianGammaISO` is a joint node for :math:`\\mu` and :math:`\\tau`\n",
      "variables from the normal-gamma distribution and the posterior approximation\n",
      "does not factorize between :math:`\\mu` and :math:`\\tau`, that is, the posterior\n",
      "approximation is :math:`q(\\mu,\\tau)`."
     ]
    },
    {
     "cell_type": "heading",
     "level": 3,
     "metadata": {},
     "source": [
      "Functional form of the posterior"
     ]
    },
    {
     "cell_type": "raw",
     "metadata": {
      "raw_mimetype": "text/restructuredtext"
     },
     "source": [
      "\n",
      "Last, the nodes define the functional form of the posterior approximation.\n",
      "Usually, the posterior approximation has the same or similar functional form as\n",
      "the prior.  For instance, :class:`Gamma` uses gamma distribution to also\n",
      "approximate the posterior distribution.  Similarly, :class:`GaussianARD` uses\n",
      "Gaussian distribution for the posterior.  However, the posterior approximation\n",
      "of :class:`GaussianARD` uses a full covariance matrix although the prior assumes\n",
      "a diagonal covariance matrix.  Thus, there can be slight differences in the\n",
      "exact functional form of the posterior approximation but the rule of thumb is\n",
      "that the functional form of the posterior approximation is the same as or more general than the\n",
      "functional form of the prior."
     ]
    },
    {
     "cell_type": "heading",
     "level": 2,
     "metadata": {},
     "source": [
      "Using plate notation"
     ]
    },
    {
     "cell_type": "heading",
     "level": 3,
     "metadata": {},
     "source": [
      "Defining plates"
     ]
    },
    {
     "cell_type": "markdown",
     "metadata": {},
     "source": [
      "Stochastic nodes take the optional parameter `plates`, which can be used to define plates of the variable. A plate defines the number of repetitions of a set of variables. For instance, a set of random variables $\\mathbf{y}_{mn}$ could be defined as\n",
      "\n",
      "$$   \n",
      "\\mathbf{y}_{mn} \\sim \\mathcal{N}(\\boldsymbol{\\mu}, \\mathbf{\\Lambda}),\\qquad m=0,\\ldots,9, \\quad n=0,\\ldots,29.\n",
      "$$\n",
      "\n",
      "This can also be visualized as a graphical model:"
     ]
    },
    {
     "cell_type": "raw",
     "metadata": {
      "raw_mimetype": "text/restructuredtext"
     },
     "source": [
      "\n",
      ".. bayesnet::\n",
      "\n",
      "    \\node[latent] (y) {$\\mathbf{y}_{mn}$} ;\n",
      "    \\node[latent, above left=1.8 and 0.4 of y] (mu) {$\\boldsymbol{\\mu}$} ;\n",
      "    \\node[latent, above right=1.8 and 0.4 of y] (Lambda) {$\\mathbf{\\Lambda}$} ;\n",
      "    \\factor[above=of y] {y-f} {left:$\\mathcal{N}$} {mu,Lambda}     {y};\n",
      "    \\plate {m-plate} {(y)(y-f)(y-f-caption)} {$m=0,\\ldots,9$} ;\n",
      "    \\plate {n-plate} {(m-plate)(m-plate-caption)} {$n=0,\\ldots,29$} ;"
     ]
    },
    {
     "cell_type": "markdown",
     "metadata": {},
     "source": [
      "The variable has two plates: one for the index $m$ and one for the index $n$. In BayesPy, this random variable can be constructed as:"
     ]
    },
    {
     "cell_type": "code",
     "collapsed": false,
     "input": [
      "y = Gaussian(mu, Lambda, plates=(10,30))"
     ],
     "language": "python",
     "metadata": {},
     "outputs": [],
     "prompt_number": 37
    },
    {
     "cell_type": "raw",
     "metadata": {
      "raw_mimetype": "text/restructuredtext"
     },
     "source": [
      "\n",
      ".. note:: The plates are always given as a tuple of positive integers."
     ]
    },
    {
     "cell_type": "heading",
     "level": 3,
     "metadata": {},
     "source": [
      "Sharing and broadcasting plates"
     ]
    },
    {
     "cell_type": "markdown",
     "metadata": {},
     "source": [
      "Instead of having a common mean and precision matrix for all $\\mathbf{y}_{mn}$, it is also possible to share plates with parents. For instance, the mean could be different for each index $m$ and the precision for each index $n$:\n",
      "\n",
      "$$\n",
      "\\mathbf{y}_{mn} \\sim \\mathcal{N}(\\boldsymbol{\\mu}_m, \\mathbf{\\Lambda}_n),\\qquad m=0,\\ldots,9, \\quad n=0,\\ldots,29.\n",
      "$$\n",
      "\n",
      "which has the following graphical representation:"
     ]
    },
    {
     "cell_type": "raw",
     "metadata": {
      "raw_mimetype": "text/restructuredtext"
     },
     "source": [
      "\n",
      ".. bayesnet::\n",
      "\n",
      "    \\node[latent] (y) {$\\mathbf{y}_{mn}$} ;\n",
      "    \\node[latent, above left=1 and 2 of y] (mu) {$\\boldsymbol{\\mu}_m$} ;\n",
      "    \\node[latent, above right=1 and 1 of y] (Lambda) {$\\mathbf{\\Lambda}_n$} ;\n",
      "    \\factor[above=of y] {y-f} {above:$\\mathcal{N}$} {mu,Lambda}     {y};\n",
      "    \\plate {m-plate} {(mu)(y)(y-f)(y-f-caption)} {$m=0,\\ldots,9$} ;\n",
      "    \\plate {n-plate} {(Lambda)(y)(y-f)(y-f-caption)(m-plate-caption)(m-plate.north east)} {$n=0,\\ldots,29$} ;"
     ]
    },
    {
     "cell_type": "markdown",
     "metadata": {},
     "source": [
      "This can be constructed in BayesPy, for instance, as:"
     ]
    },
    {
     "cell_type": "code",
     "collapsed": false,
     "input": [
      "from bayespy.nodes import Gaussian, Wishart\n",
      "mu = Gaussian([0, 0], [[1e-6, 0],[0, 1e-6]], plates=(10,1))\n",
      "Lambda = Wishart(2, [[1, 0], [0, 1]], plates=(1,30))\n",
      "X = Gaussian(mu, Lambda)"
     ],
     "language": "python",
     "metadata": {},
     "outputs": [],
     "prompt_number": 38
    },
    {
     "cell_type": "markdown",
     "metadata": {},
     "source": [
      "There are a few things to notice here. First, the plates are defined similarly as shapes in NumPy, that is, they use similar broadcasting rules. For instance, the plates `(10,1)` and `(1,30)` broadcast to `(10,30)`. In fact, one could use plates `(10,1)` and `(30,)` to get the broadcasted plates `(10,30)` because broadcasting compares the plates from right to left starting from the last axis. Second, `X` is not given `plates` keyword argument because the default plates are the plates broadcasted from the parents and that was what we wanted so it was not necessary to provide the keyword argument. If we wanted, for instance, plates `(20,10,30)` for `X`, then we would have needed to provide `plates=(20,10,30)`.\n",
      "\n",
      "The validity of the plates between a child and its parents is checked as follows. The plates are compared plate-wise starting from the last axis and working the way forward.  A plate of the child is compatible with a plate of the parent if either of the following conditions is met:\n",
      "\n",
      "1. The two plates have equal size\n",
      "2. The parent has size 1 (or no plate)\n",
      "\n",
      "Table below shows an example of compatible plates for a child node and its two parent nodes:"
     ]
    },
    {
     "cell_type": "raw",
     "metadata": {
      "raw_mimetype": "text/restructuredtext"
     },
     "source": [
      "\n",
      "+---------+----------------------------+\n",
      "| node    | plates                     |\n",
      "+=========+===+===+===+===+===+===+====+\n",
      "| parent1 |   | 3 | 1 | 1 | 1 | 8 | 10 |\n",
      "+---------+---+---+---+---+---+---+----+\n",
      "| parent2 |   |   | 1 | 1 | 5 | 1 | 10 |\n",
      "+---------+---+---+---+---+---+---+----+\n",
      "| child   | 5 | 3 | 1 | 7 | 5 | 8 | 10 |\n",
      "+---------+---+---+---+---+---+---+----+"
     ]
    },
    {
     "cell_type": "heading",
     "level": 3,
     "metadata": {},
     "source": [
      "Plates in deterministic nodes"
     ]
    },
    {
     "cell_type": "markdown",
     "metadata": {},
     "source": [
      "Note that plates can be defined explicitly only for stochastic nodes. For deterministic nodes, the plates are defined implicitly by the plate broadcasting rules from the parents. Deterministic nodes do not need more plates than this because there is no randomness. The deterministic node would just have the same value over the extra plates, but it is not necessary to do this explicitly because the child nodes of the deterministic node can utilize broadcasting anyway. Thus, there is no point in having extra plates in deterministic nodes, and for this reason, deterministic nodes do not use `plates` keyword argument."
     ]
    },
    {
     "cell_type": "heading",
     "level": 3,
     "metadata": {},
     "source": [
      "Plates and shape"
     ]
    },
    {
     "cell_type": "markdown",
     "metadata": {},
     "source": [
      "It is useful to understand how the plates and the shape of a random variable are connected. The shape of an array which contains all the plates of a random variable is the concatenation of the plates and the shape of the variable. For instance, consider a 2-dimensional Gaussian variable with plates `(3,)`. If you want the value of the constant mean vector and constant precision matrix to vary between plates, they are given as `(3,2)`-shape and `(3,2,2)`-shape arrays, respectively:"
     ]
    },
    {
     "cell_type": "code",
     "collapsed": false,
     "input": [
      "import numpy as np\n",
      "mu = [ [0,0], [1,1], [2,2] ]\n",
      "Lambda = [ [[1.0, 0.0],\n",
      "            [0.0, 1.0]],\n",
      "           [[1.0, 0.9],\n",
      "            [0.9, 1.0]],\n",
      "           [[1.0, -0.3],\n",
      "            [-0.3, 1.0]] ]\n",
      "X = Gaussian(mu, Lambda)\n",
      "print(\"Shape of mu:\", np.shape(mu))\n",
      "print(\"Shape of Lambda:\", np.shape(Lambda))\n",
      "print(\"Plates of X:\", X.plates)"
     ],
     "language": "python",
     "metadata": {},
     "outputs": [
      {
       "output_type": "stream",
       "stream": "stdout",
       "text": [
        "Shape of mu: (3, 2)\n",
        "Shape of Lambda: (3, 2, 2)\n",
        "Plates of X: (3,)\n"
       ]
      }
     ],
     "prompt_number": 39
    },
    {
     "cell_type": "markdown",
     "metadata": {},
     "source": [
      "Thus, the leading axes of an array are the plate axes and the trailing axes are the random variable axes. In the example above, the mean vector has plates `(3,)` and shape `(2,)`, and the precision matrix has plates `(3,)` and shape `(2,2)`."
     ]
    },
    {
     "cell_type": "heading",
     "level": 3,
     "metadata": {},
     "source": [
      "Factorization of plates"
     ]
    },
    {
     "cell_type": "markdown",
     "metadata": {},
     "source": [
      "It is important to undestand the independency structure the plates induce for the model. First, the repetitions defined by a plate are independent a priori given the parents. Second, the repetitions are independent in the posterior approximation, that is, the posterior approximation factorizes with respect to plates. Thus, the plates also have an effect on the independence structure of the posterior approximation, not only prior. If dependencies between a set of variables need to be handled, that set must be handled as a some kind of multi-dimensional variable."
     ]
    },
    {
     "cell_type": "heading",
     "level": 3,
     "metadata": {},
     "source": [
      "Irregular plates"
     ]
    },
    {
     "cell_type": "markdown",
     "metadata": {},
     "source": [
      "The handling of plates is not always as simple as described above. There are cases in which the plates of the parents do not map directly to the plates of the child node. The user API should mention such irregularities.\n",
      "\n",
      "For instance, the parents of a mixture distribution have a plate which contains the different parameters for each cluster, but the variable from the mixture distribution does not have that plate:"
     ]
    },
    {
     "cell_type": "code",
     "collapsed": false,
     "input": [
      "from bayespy.nodes import Gaussian, Wishart, Categorical, Mixture\n",
      "mu = Gaussian([[0], [0], [0]], [ [[1]], [[1]], [[1]] ])\n",
      "Lambda = Wishart(1, [ [[1]], [[1]], [[1]]])\n",
      "Z = Categorical([1/3, 1/3, 1/3], plates=(100,))\n",
      "X = Mixture(Z, Gaussian, mu, Lambda)\n",
      "print(\"Plates of mu:\", mu.plates)\n",
      "print(\"Plates of Lambda:\", Lambda.plates)\n",
      "print(\"Plates of Z:\", Z.plates)\n",
      "print(\"Plates of X:\", X.plates)"
     ],
     "language": "python",
     "metadata": {},
     "outputs": [
      {
       "output_type": "stream",
       "stream": "stdout",
       "text": [
        "Plates of mu: (3,)\n",
        "Plates of Lambda: (3,)\n",
        "Plates of Z: (100,)\n",
        "Plates of X: (100,)\n"
       ]
      }
     ],
     "prompt_number": 40
    },
    {
     "cell_type": "raw",
     "metadata": {
      "raw_mimetype": "text/restructuredtext"
     },
     "source": [
      "\n",
      "The plates `(3,)` and `(100,)` should not broadcast according to the rules mentioned above. However, when validating the plates, :class:`Mixture` removes the plate which corresponds to the clusters in `mu` and `Lambda`. Thus, `X` has plates which are the result of broadcasting plates `()` and `(100,)` which equals `(100,)`."
     ]
    },
    {
     "cell_type": "markdown",
     "metadata": {},
     "source": [
      "Also, sometimes the plates of the parents may be mapped to the variable axes. For instance, an automatic relevance determination (ARD) prior for a Gaussian variable is constructed by giving the diagonal elements of the precision matrix (or tensor). The Gaussian variable itself can be a scalar, a vector, a matrix or a tensor. A set of five $4 \\times 3$ -dimensional Gaussian matrices with ARD prior is constructed as:"
     ]
    },
    {
     "cell_type": "code",
     "collapsed": false,
     "input": [
      "from bayespy.nodes import GaussianARD, Gamma\n",
      "tau = Gamma(1, 1, plates=(5,4,3))\n",
      "X = GaussianARD(0, tau, shape=(4,3))\n",
      "print(\"Plates of tau:\", tau.plates)\n",
      "print(\"Plates of X:\", X.plates)"
     ],
     "language": "python",
     "metadata": {},
     "outputs": [
      {
       "output_type": "stream",
       "stream": "stdout",
       "text": [
        "Plates of tau: (5, 4, 3)\n",
        "Plates of X: (5,)\n"
       ]
      }
     ],
     "prompt_number": 41
    },
    {
     "cell_type": "markdown",
     "metadata": {},
     "source": [
      "Note how the last two plate axes of `tau` are mapped to the variable axes of `X` with shape `(4,3)` and the plates of `X` are obtained by taking the remaining leading plate axes of `tau`."
     ]
    }
   ],
   "metadata": {}
  }
 ]
}