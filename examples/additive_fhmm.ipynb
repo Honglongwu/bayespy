{
 "metadata": {
  "name": "",
  "signature": "sha256:74ad670b9261d0a7f767ce08b52c6723a802810e33706ebcd031d5d5f96d3b9c"
 },
 "nbformat": 3,
 "nbformat_minor": 0,
 "worksheets": [
  {
   "cells": [
    {
     "cell_type": "heading",
     "level": 1,
     "metadata": {},
     "source": [
      "Additive factorial hidden Markov model"
     ]
    },
    {
     "cell_type": "code",
     "collapsed": false,
     "input": [
      "import numpy as np\n",
      "from bayespy.nodes import (Dirichlet, \n",
      "                            CategoricalMarkovChain,\n",
      "                            GaussianARD,\n",
      "                            Gate,\n",
      "                            SumMultiply,\n",
      "                            Gamma)\n",
      "\n",
      "D = 4   # dimensionality of the data vectors (and mu vectors)\n",
      "N = 5   # number of chains\n",
      "K = 3   # number of states in each chain\n",
      "T = 100 # length of each chain\n",
      "\n",
      "# Markov chain parameters.\n",
      "# Use known values\n",
      "p0 = np.ones(K) / K\n",
      "P = np.ones((K,K)) / K\n",
      "# Or set Dirichlet prior.\n",
      "p0 = Dirichlet(np.ones(K), plates=(N,))\n",
      "P = Dirichlet(np.ones(K), plates=(N,1,K))\n",
      "\n",
      "# N Markov chains with K possible states, and length T\n",
      "X = CategoricalMarkovChain(p0, P, states=T, plates=(N,))\n",
      "\n",
      "# For each of the N chains, have K different D-dimensional mu's\n",
      "# Unknown mu's\n",
      "mu = GaussianARD(0, 1e-3, plates=(D,1,1,K), shape=(N,))\n",
      "\n",
      "# Gate/select mu's\n",
      "print(mu.plates, mu.dims[0], X.plates, X.dims[1])\n",
      "Z = Gate(X, mu)\n",
      "\n",
      "# Sum the mu's of different chains\n",
      "F = SumMultiply('i->', Z)\n",
      "print(mu.plates, mu.dims[0], X.plates, X.dims[0], Z.plates, Z.dims[0], F.plates, F.dims[0])\n",
      "\n",
      "# Known observation noise inverse covariance\n",
      "tau = np.ones(D)\n",
      "# or unknown observation noise inverse covariance\n",
      "tau = Gamma(1e-3, 1e-3, plates=(D,))\n",
      "\n",
      "# Observed process\n",
      "Y = GaussianARD(F, tau)\n",
      "\n",
      "# Data\n",
      "data = np.random.randn(T, D)\n",
      "Y.observe(data)\n",
      "\n",
      "from bayespy.inference import VB\n",
      "Q = VB(Y, X, p0, P, mu, tau)\n",
      "\n",
      "Q.update(repeat=10)"
     ],
     "language": "python",
     "metadata": {},
     "outputs": [
      {
       "output_type": "stream",
       "stream": "stdout",
       "text": [
        "(4, 1, 1, 3) (5,) (5,) (99, 3, 3)\n",
        "(4, 1, 1, 3) (5,) (5,) (3,) (4, 5, 100) (5,) (4, 5, 100) ()\n"
       ]
      },
      {
       "ename": "ValueError",
       "evalue": "The plates of the parents do not broadcast.",
       "output_type": "pyerr",
       "traceback": [
        "\u001b[1;31m---------------------------------------------------------------------------\u001b[0m\n\u001b[1;31mValueError\u001b[0m                                Traceback (most recent call last)",
        "\u001b[1;32m<ipython-input-5-1bb7a2c9abcf>\u001b[0m in \u001b[0;36m<module>\u001b[1;34m()\u001b[0m\n\u001b[0;32m     41\u001b[0m \u001b[1;33m\u001b[0m\u001b[0m\n\u001b[0;32m     42\u001b[0m \u001b[1;31m# Observed process\u001b[0m\u001b[1;33m\u001b[0m\u001b[1;33m\u001b[0m\u001b[0m\n\u001b[1;32m---> 43\u001b[1;33m \u001b[0mY\u001b[0m \u001b[1;33m=\u001b[0m \u001b[0mGaussianARD\u001b[0m\u001b[1;33m(\u001b[0m\u001b[0mF\u001b[0m\u001b[1;33m,\u001b[0m \u001b[0mtau\u001b[0m\u001b[1;33m)\u001b[0m\u001b[1;33m\u001b[0m\u001b[0m\n\u001b[0m\u001b[0;32m     44\u001b[0m \u001b[1;33m\u001b[0m\u001b[0m\n\u001b[0;32m     45\u001b[0m \u001b[1;31m# Data\u001b[0m\u001b[1;33m\u001b[0m\u001b[1;33m\u001b[0m\u001b[0m\n",
        "\u001b[1;32m/home/jluttine/workspace/bayespy/bayespy/inference/vmp/nodes/expfamily.py\u001b[0m in \u001b[0;36mconstructor_decorator\u001b[1;34m(self, *args, **kwargs)\u001b[0m\n\u001b[0;32m     81\u001b[0m \u001b[1;33m\u001b[0m\u001b[0m\n\u001b[0;32m     82\u001b[0m             \u001b[1;33m(\u001b[0m\u001b[0margs\u001b[0m\u001b[1;33m,\u001b[0m \u001b[0mkwargs\u001b[0m\u001b[1;33m,\u001b[0m \u001b[0mdims\u001b[0m\u001b[1;33m,\u001b[0m \u001b[0mplates\u001b[0m\u001b[1;33m,\u001b[0m \u001b[0mdist\u001b[0m\u001b[1;33m,\u001b[0m \u001b[0mstats\u001b[0m\u001b[1;33m,\u001b[0m \u001b[0mpstats\u001b[0m\u001b[1;33m)\u001b[0m \u001b[1;33m=\u001b[0m\u001b[0;31m \u001b[0m\u001b[0;31m\\\u001b[0m\u001b[1;33m\u001b[0m\u001b[0m\n\u001b[1;32m---> 83\u001b[1;33m               \u001b[0mself\u001b[0m\u001b[1;33m.\u001b[0m\u001b[0m_constructor\u001b[0m\u001b[1;33m(\u001b[0m\u001b[1;33m*\u001b[0m\u001b[0margs\u001b[0m\u001b[1;33m,\u001b[0m \u001b[1;33m**\u001b[0m\u001b[0mkwargs\u001b[0m\u001b[1;33m)\u001b[0m\u001b[1;33m\u001b[0m\u001b[0m\n\u001b[0m\u001b[0;32m     84\u001b[0m \u001b[1;33m\u001b[0m\u001b[0m\n\u001b[0;32m     85\u001b[0m             \u001b[0mself\u001b[0m\u001b[1;33m.\u001b[0m\u001b[0mdims\u001b[0m \u001b[1;33m=\u001b[0m \u001b[0mdims\u001b[0m\u001b[1;33m\u001b[0m\u001b[0m\n",
        "\u001b[1;32m/home/jluttine/workspace/bayespy/bayespy/inference/vmp/nodes/gaussian.py\u001b[0m in \u001b[0;36m_constructor\u001b[1;34m(cls, mu, alpha, ndim, shape, **kwargs)\u001b[0m\n\u001b[0;32m    890\u001b[0m         plates = cls._total_plates(kwargs.get('plates'),\n\u001b[0;32m    891\u001b[0m                                    \u001b[0mdistribution\u001b[0m\u001b[1;33m.\u001b[0m\u001b[0mplates_from_parent\u001b[0m\u001b[1;33m(\u001b[0m\u001b[1;36m0\u001b[0m\u001b[1;33m,\u001b[0m \u001b[0mmu\u001b[0m\u001b[1;33m.\u001b[0m\u001b[0mplates\u001b[0m\u001b[1;33m)\u001b[0m\u001b[1;33m,\u001b[0m\u001b[1;33m\u001b[0m\u001b[0m\n\u001b[1;32m--> 892\u001b[1;33m                                    distribution.plates_from_parent(1, alpha.plates))\n\u001b[0m\u001b[0;32m    893\u001b[0m \u001b[1;33m\u001b[0m\u001b[0m\n\u001b[0;32m    894\u001b[0m         \u001b[0mparents\u001b[0m \u001b[1;33m=\u001b[0m \u001b[1;33m[\u001b[0m\u001b[0mmu\u001b[0m\u001b[1;33m,\u001b[0m \u001b[0malpha\u001b[0m\u001b[1;33m]\u001b[0m\u001b[1;33m\u001b[0m\u001b[0m\n",
        "\u001b[1;32m/home/jluttine/workspace/bayespy/bayespy/inference/vmp/nodes/node.py\u001b[0m in \u001b[0;36m_total_plates\u001b[1;34m(cls, plates, *parent_plates)\u001b[0m\n\u001b[0;32m    244\u001b[0m                 \u001b[1;32mreturn\u001b[0m \u001b[0mutils\u001b[0m\u001b[1;33m.\u001b[0m\u001b[0mbroadcasted_shape\u001b[0m\u001b[1;33m(\u001b[0m\u001b[1;33m*\u001b[0m\u001b[0mparent_plates\u001b[0m\u001b[1;33m)\u001b[0m\u001b[1;33m\u001b[0m\u001b[0m\n\u001b[0;32m    245\u001b[0m             \u001b[1;32mexcept\u001b[0m \u001b[0mValueError\u001b[0m\u001b[1;33m:\u001b[0m\u001b[1;33m\u001b[0m\u001b[0m\n\u001b[1;32m--> 246\u001b[1;33m                 \u001b[1;32mraise\u001b[0m \u001b[0mValueError\u001b[0m\u001b[1;33m(\u001b[0m\u001b[1;34m\"The plates of the parents do not broadcast.\"\u001b[0m\u001b[1;33m)\u001b[0m\u001b[1;33m\u001b[0m\u001b[0m\n\u001b[0m\u001b[0;32m    247\u001b[0m         \u001b[1;32melse\u001b[0m\u001b[1;33m:\u001b[0m\u001b[1;33m\u001b[0m\u001b[0m\n\u001b[0;32m    248\u001b[0m             \u001b[1;31m# Check that the parent_plates are a subset of plates.\u001b[0m\u001b[1;33m\u001b[0m\u001b[1;33m\u001b[0m\u001b[0m\n",
        "\u001b[1;31mValueError\u001b[0m: The plates of the parents do not broadcast."
       ]
      }
     ],
     "prompt_number": 5
    },
    {
     "cell_type": "code",
     "collapsed": false,
     "input": [],
     "language": "python",
     "metadata": {},
     "outputs": [],
     "prompt_number": 7
    },
    {
     "cell_type": "code",
     "collapsed": false,
     "input": [],
     "language": "python",
     "metadata": {},
     "outputs": []
    }
   ],
   "metadata": {}
  }
 ]
}