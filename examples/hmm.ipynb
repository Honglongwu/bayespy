{
 "metadata": {
  "name": "",
  "signature": "sha256:d995a3d7aed8c18d010000256bd16f2cda4076fd9f5a839148de000013b23332"
 },
 "nbformat": 3,
 "nbformat_minor": 0,
 "worksheets": [
  {
   "cells": [
    {
     "cell_type": "heading",
     "level": 1,
     "metadata": {},
     "source": [
      "Hidden Markov model"
     ]
    },
    {
     "cell_type": "markdown",
     "metadata": {},
     "source": [
      "blaa blaa"
     ]
    }
   ],
   "metadata": {}
  }
 ]
}