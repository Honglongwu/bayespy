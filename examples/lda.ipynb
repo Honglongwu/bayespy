{
 "metadata": {
  "name": "",
  "signature": "sha256:a9a874a57ae696d7a3a65562a5820245c701219ae2bb8678b768a0346ca14b05"
 },
 "nbformat": 3,
 "nbformat_minor": 0,
 "worksheets": [
  {
   "cells": [
    {
     "cell_type": "heading",
     "level": 1,
     "metadata": {},
     "source": [
      "Latent Dirichlet allocation"
     ]
    },
    {
     "cell_type": "markdown",
     "metadata": {},
     "source": [
      "blaa blaa blaa.."
     ]
    }
   ],
   "metadata": {}
  }
 ]
}