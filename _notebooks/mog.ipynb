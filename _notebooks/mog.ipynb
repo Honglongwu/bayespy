{
 "metadata": {
  "name": "mog"
 },
 "nbformat": 3,
 "nbformat_minor": 0,
 "worksheets": [
  {
   "cells": [
    {
     "cell_type": "heading",
     "level": 1,
     "metadata": {},
     "source": [
      "Example: Mixture of Gaussians"
     ]
    },
    {
     "cell_type": "markdown",
     "metadata": {},
     "source": [
      "Do some stuff:"
     ]
    },
    {
     "cell_type": "code",
     "collapsed": false,
     "input": [
      "from bayespy.nodes import Dirichlet\n",
      "alpha = Dirichlet([1e-3, 1e-3, 1e-3])\n",
      "print(alpha._message_to_child())"
     ],
     "language": "python",
     "metadata": {},
     "outputs": [
      {
       "output_type": "stream",
       "stream": "stdout",
       "text": [
        "[array([-666.66994695, -666.66994695, -666.66994695])]\n"
       ]
      }
     ],
     "prompt_number": 2
    },
    {
     "cell_type": "markdown",
     "metadata": {},
     "source": [
      "Nice!"
     ]
    }
   ],
   "metadata": {}
  }
 ]
}