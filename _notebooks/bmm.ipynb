{
 "metadata": {
  "name": "",
  "signature": "sha256:1782cf6352631baadaac6d4e2be3c02acc41199e9f67e92e0b489f7265ab3c39"
 },
 "nbformat": 3,
 "nbformat_minor": 0,
 "worksheets": [
  {
   "cells": [
    {
     "cell_type": "heading",
     "level": 1,
     "metadata": {},
     "source": [
      "Bernoulli mixture model"
     ]
    },
    {
     "cell_type": "markdown",
     "metadata": {},
     "source": [
      "blaa blaa blaa"
     ]
    },
    {
     "cell_type": "code",
     "collapsed": false,
     "input": [
      "import numpy as np\n",
      "D = 10\n",
      "p0 = [0.1, 0.9, 0.1, 0.9, 0.1, 0.9, 0.1, 0.9, 0.1, 0.9]\n",
      "p1 = [0.1, 0.2, 0.3, 0.4, 0.5, 0.6, 0.7, 0.8, 0.9, 1.0]\n",
      "p2 = [1.0, 0.9, 0.8, 0.7, 0.6, 0.5, 0.4, 0.3, 0.2, 0.1]\n",
      "p = np.array([p0, p1, p2])\n",
      "from bayespy.utils import random\n",
      "N = 100\n",
      "z = random.categorical([1/3, 1/3, 1/3], size=N)\n",
      "x = random.bernoulli(p[z])"
     ],
     "language": "python",
     "metadata": {},
     "outputs": [],
     "prompt_number": 1
    },
    {
     "cell_type": "code",
     "collapsed": false,
     "input": [
      "from bayespy.nodes import Categorical, Dirichlet\n",
      "K = 5\n",
      "R = Dirichlet(K*[1e-3],\n",
      "              name='R')\n",
      "Z = Categorical(R,\n",
      "                plates=(N,1),\n",
      "                name='Z')\n",
      "\n",
      "from bayespy.nodes import Mixture, Bernoulli, Beta\n",
      "P = Beta([1e-1, 1e-1],\n",
      "         plates=(D,K),\n",
      "         name='P')\n",
      "X = Mixture(Z, Bernoulli, P)\n",
      "\n",
      "X.observe(x)\n",
      "\n",
      "from bayespy.inference import VB\n",
      "Q = VB(Z, R, X, P)\n",
      "P.initialize_from_random()\n",
      "\n",
      "Q.update(repeat=10)"
     ],
     "language": "python",
     "metadata": {},
     "outputs": [
      {
       "output_type": "stream",
       "stream": "stdout",
       "text": [
        "Iteration 1: loglike=nan (0.005 seconds)\n",
        "Iteration 2: loglike=nan (0.003 seconds)\n",
        "Iteration 3: loglike=nan (0.003 seconds)\n",
        "Iteration 4: loglike=nan (0.003 seconds)\n",
        "Iteration 5: loglike=nan (0.003 seconds)\n",
        "Iteration 6: loglike=nan (0.003 seconds)\n",
        "Iteration 7: loglike=nan (0.003 seconds)\n",
        "Iteration 8: loglike=nan (0.003 seconds)\n",
        "Iteration 9: loglike=nan (0.003 seconds)\n",
        "Iteration 10: loglike=nan (0.003 seconds)\n"
       ]
      },
      {
       "output_type": "stream",
       "stream": "stderr",
       "text": [
        "/home/jluttine/workspace/bayespy/bayespy/inference/vmp/nodes/dirichlet.py:91: RuntimeWarning: divide by zero encountered in log\n",
        "  logp = np.log(p)\n",
        "/home/jluttine/workspace/bayespy/bayespy/inference/vmp/nodes/expfamily.py:71: RuntimeWarning: invalid value encountered in multiply\n",
        "  L = L + np.sum(phi_i * u_i, axis=axis_sum)\n",
        "/home/jluttine/workspace/bayespy/bayespy/inference/vmp/nodes/expfamily.py:71: RuntimeWarning: invalid value encountered in add\n",
        "  L = L + np.sum(phi_i * u_i, axis=axis_sum)\n",
        "/home/jluttine/workspace/bayespy/bayespy/inference/vmp/nodes/mixture.py:229: UserWarning: The natural parameters of mixture distribution contain nans. This may happen if you use fixed parameters in your model. Technically, one possible reason is that the cluster assignment probability for some element is zero (p=0) and the natural parameter of that cluster is -inf, thus 0*(-inf)=nan. Solution: Use parameters that assign non-zero probabilities for the whole domain.\n",
        "  warnings.warn(\"The natural parameters of mixture distribution \"\n"
       ]
      }
     ],
     "prompt_number": 2
    },
    {
     "cell_type": "code",
     "collapsed": false,
     "input": [
      "import bayespy.plot.plotting as bpplt\n",
      "bpplt.beta_hinton(P)\n",
      "import matplotlib.pyplot as plt\n",
      "plt.show()"
     ],
     "language": "python",
     "metadata": {},
     "outputs": [
      {
       "output_type": "stream",
       "stream": "stderr",
       "text": [
        "/home/jluttine/workspace/bayespy/bayespy/plot/plotting.py:204: RuntimeWarning: invalid value encountered in absolute\n",
        "  _w = np.abs(w)\n"
       ]
      }
     ],
     "prompt_number": 3
    },
    {
     "cell_type": "code",
     "collapsed": false,
     "input": [],
     "language": "python",
     "metadata": {},
     "outputs": [],
     "prompt_number": 3
    }
   ],
   "metadata": {}
  }
 ]
}