{
 "metadata": {
  "name": "",
  "signature": "sha256:69a1bded39ddfefcd89599bf12223c3e817635afc84684b87cc0b973cc9ceeca"
 },
 "nbformat": 3,
 "nbformat_minor": 0,
 "worksheets": [
  {
   "cells": [
    {
     "cell_type": "heading",
     "level": 1,
     "metadata": {},
     "source": [
      "Bernoulli mixture model"
     ]
    },
    {
     "cell_type": "markdown",
     "metadata": {},
     "source": [
      "blaa blaa blaa"
     ]
    }
   ],
   "metadata": {}
  }
 ]
}