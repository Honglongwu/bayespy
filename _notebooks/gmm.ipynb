{
 "metadata": {
  "name": "",
  "signature": "sha256:88bc3dfaf79b2fe6fe3a1307cd73f3df8b1ca5e429e723f344599d1acd2b636b"
 },
 "nbformat": 3,
 "nbformat_minor": 0,
 "worksheets": [
  {
   "cells": [
    {
     "cell_type": "heading",
     "level": 1,
     "metadata": {},
     "source": [
      "Gaussian mixture model"
     ]
    },
    {
     "cell_type": "markdown",
     "metadata": {},
     "source": [
      "Do some stuff:"
     ]
    },
    {
     "cell_type": "code",
     "collapsed": false,
     "input": [
      "from bayespy.nodes import Dirichlet\n",
      "alpha = Dirichlet([1e-3, 1e-3, 1e-3])\n",
      "print(alpha._message_to_child())"
     ],
     "language": "python",
     "metadata": {},
     "outputs": [
      {
       "output_type": "stream",
       "stream": "stdout",
       "text": [
        "[array([-666.66994695, -666.66994695, -666.66994695])]\n"
       ]
      }
     ],
     "prompt_number": 2
    },
    {
     "cell_type": "markdown",
     "metadata": {},
     "source": [
      "Nice!"
     ]
    }
   ],
   "metadata": {}
  }
 ]
}