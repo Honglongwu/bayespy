{
 "metadata": {
  "celltoolbar": "Raw Cell Format",
  "name": "",
  "signature": "sha256:382778045ac30c26816c95f327914965c61ed34ea9e529ed91b560b4ebd92d1b"
 },
 "nbformat": 3,
 "nbformat_minor": 0,
 "worksheets": [
  {
   "cells": [
    {
     "cell_type": "heading",
     "level": 1,
     "metadata": {},
     "source": [
      "Example: Principal component analysis"
     ]
    },
    {
     "cell_type": "markdown",
     "metadata": {},
     "source": [
      "Yeah."
     ]
    },
    {
     "cell_type": "raw",
     "metadata": {
      "raw_mimetype": "text/restructuredtext"
     },
     "source": [
      "\n",
      ".. bayesnet:: Directed factor graph of the example model.\n",
      "\n",
      "   \\node[obs]                                  (y)     {$y$} ;\n",
      "   \\node[latent, above left=1.5 and 0.5 of y]  (mu)    {$\\mu$} ;\n",
      "   \\node[latent, above right=1.5 and 0.5 of y] (tau)   {$\\tau$} ;\n",
      "   \\node[const, above=of mu, xshift=-0.5cm]    (mumu)  {$0$} ;\n",
      "   \\node[const, above=of mu, xshift=0.5cm]     (taumu) {$10^{-3}$} ;\n",
      "   \\node[const, above=of tau, xshift=-0.5cm]   (atau)  {$10^{-3}$} ;\n",
      "   \\node[const, above=of tau, xshift=0.5cm]    (btau)  {$10^{-3}$} ;\n",
      "\n",
      "   \\factor[above=of y] {y-f} {left:$\\mathcal{N}$} {mu,tau}     {y};\n",
      "   \\factor[above=of mu] {} {left:$\\mathcal{N}$}   {mumu,taumu} {mu};\n",
      "   \\factor[above=of tau] {} {left:$\\mathcal{G}$}  {atau,btau}  {tau};\n",
      "\n",
      "   \\plate {} {(y)(y-f)(y-f-caption)} {10} ;\n"
     ]
    },
    {
     "cell_type": "code",
     "collapsed": false,
     "input": [
      "from bayespy.nodes import GaussianARD\n",
      "GaussianARD(0, 1)"
     ],
     "language": "python",
     "metadata": {},
     "outputs": [
      {
       "metadata": {},
       "output_type": "pyout",
       "prompt_number": 1,
       "text": [
        "<bayespy.inference.vmp.nodes.gaussian.GaussianARD at 0x7fa3343bce90>"
       ]
      }
     ],
     "prompt_number": 1
    }
   ],
   "metadata": {}
  }
 ]
}